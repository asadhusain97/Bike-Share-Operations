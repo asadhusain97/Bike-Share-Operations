{
 "cells": [
  {
   "cell_type": "markdown",
   "id": "2eb51389-5069-47c6-a1bc-48e2c127c36b",
   "metadata": {},
   "source": [
    "## <center> Final Project </center> \n",
    "### <center> -- Austin Bikeshare Analysis -- </center>\n",
    "#### <center> Asad Husain </center> "
   ]
  },
  {
   "cell_type": "markdown",
   "id": "2a2d2eb4-a631-4762-8654-e9db9a492ba5",
   "metadata": {},
   "source": [
    "Hola!\n",
    "In this project, I'd like to analyse the Austin's bikeshare data for the years 2014 and 2015. \n",
    "I've written the details about this dataset, my methodology, and reuslts, in the pdf file attached.\n",
    "Let's begin."
   ]
  },
  {
   "cell_type": "markdown",
   "id": "43a43315-0ca8-48c1-a391-9769623e0990",
   "metadata": {},
   "source": [
    "<center><img src=\"austin map.png\" width=400 height=400 /></center>\n",
    "<center> Map of Metro Bike kiosk hotspots in Austin, Texas </center>"
   ]
  },
  {
   "cell_type": "code",
   "execution_count": 1,
   "id": "574bcd4a-b55e-40da-9ad0-930da94a8335",
   "metadata": {},
   "outputs": [],
   "source": [
    "#Install these packages first if not present\n",
    "##pip install networkx\n",
    "##pip install pulp\n",
    "##pip install geopy\n",
    "##!pip install xgboost\n",
    "##!pip install sklearn"
   ]
  },
  {
   "cell_type": "code",
   "execution_count": 1,
   "id": "dbf3bf7d-d2fa-43a6-b10b-18e34591085b",
   "metadata": {},
   "outputs": [],
   "source": [
    "#importing necessary libraries\n",
    "import pandas as pd #handling data\n",
    "import numpy as np #handling numbers and matrices\n",
    "import matplotlib.pyplot as plt #making plots\n",
    "import networkx as nx #making graphs\n",
    "import pulp #solving linear optimization problems\n",
    "import random\n",
    "pd.options.display.max_columns = 999\n",
    "import warnings\n",
    "warnings.filterwarnings(\"ignore\")\n",
    "import geopy.distance\n",
    "from numpy import loadtxt\n",
    "from sklearn.model_selection import train_test_split\n",
    "from sklearn.metrics import accuracy_score\n",
    "from pulp import *\n",
    "from sklearn.cluster import KMeans\n",
    "from xgboost import XGBClassifier"
   ]
  },
  {
   "cell_type": "markdown",
   "id": "46cfd62e-d582-4eba-a69b-917211c91255",
   "metadata": {
    "tags": []
   },
   "source": [
    "#### Importing and Cleaning data"
   ]
  },
  {
   "cell_type": "code",
   "execution_count": 2,
   "id": "d7b0eeaf-f337-4816-af64-1a8ba8045a3a",
   "metadata": {},
   "outputs": [],
   "source": [
    "dt_full = pd.read_csv(\"Bikeshare_Austin_compiled.csv\")"
   ]
  },
  {
   "cell_type": "code",
   "execution_count": 3,
   "id": "b1b60f11-b2c3-4157-ab9d-3f9f3b343b1a",
   "metadata": {},
   "outputs": [
    {
     "data": {
      "text/html": [
       "<div>\n",
       "<style scoped>\n",
       "    .dataframe tbody tr th:only-of-type {\n",
       "        vertical-align: middle;\n",
       "    }\n",
       "\n",
       "    .dataframe tbody tr th {\n",
       "        vertical-align: top;\n",
       "    }\n",
       "\n",
       "    .dataframe thead th {\n",
       "        text-align: right;\n",
       "    }\n",
       "</style>\n",
       "<table border=\"1\" class=\"dataframe\">\n",
       "  <thead>\n",
       "    <tr style=\"text-align: right;\">\n",
       "      <th></th>\n",
       "      <th>Trip_ID</th>\n",
       "      <th>Membership_Type</th>\n",
       "      <th>Bicycle_ID</th>\n",
       "      <th>Checkout_Date</th>\n",
       "      <th>Month</th>\n",
       "      <th>TempAvgF</th>\n",
       "      <th>DewPointAvgF</th>\n",
       "      <th>HumidityAvgPercent</th>\n",
       "      <th>VisibilityAvgMiles</th>\n",
       "      <th>WindAvgMPH</th>\n",
       "      <th>PrecipitationSumInches</th>\n",
       "      <th>Checkout_Kiosk_ID</th>\n",
       "      <th>Checkout_Kiosk</th>\n",
       "      <th>Checkout_Kiosk_latitude</th>\n",
       "      <th>Checkout_Kiosk_longitude</th>\n",
       "      <th>Return_Kiosk_ID</th>\n",
       "      <th>Return_Kiosk</th>\n",
       "      <th>Return_Kiosk_latitude</th>\n",
       "      <th>Return_Kiosk_longitude</th>\n",
       "      <th>Trip_Duration_Minutes</th>\n",
       "    </tr>\n",
       "  </thead>\n",
       "  <tbody>\n",
       "    <tr>\n",
       "      <th>0</th>\n",
       "      <td>9900285854</td>\n",
       "      <td>Annual (San Antonio B-cycle)</td>\n",
       "      <td>207</td>\n",
       "      <td>10/26/2014</td>\n",
       "      <td>10</td>\n",
       "      <td>74</td>\n",
       "      <td>58</td>\n",
       "      <td>62</td>\n",
       "      <td>10</td>\n",
       "      <td>4</td>\n",
       "      <td>0.0</td>\n",
       "      <td>2537</td>\n",
       "      <td>West &amp; 6th St.</td>\n",
       "      <td>30.27041</td>\n",
       "      <td>-97.75046</td>\n",
       "      <td>2707</td>\n",
       "      <td>Rainey St @ Cummings</td>\n",
       "      <td>30.25579</td>\n",
       "      <td>-97.73982</td>\n",
       "      <td>76</td>\n",
       "    </tr>\n",
       "    <tr>\n",
       "      <th>1</th>\n",
       "      <td>9900285855</td>\n",
       "      <td>24-Hour Kiosk (Austin B-cycle)</td>\n",
       "      <td>969</td>\n",
       "      <td>10/26/2014</td>\n",
       "      <td>10</td>\n",
       "      <td>74</td>\n",
       "      <td>58</td>\n",
       "      <td>62</td>\n",
       "      <td>10</td>\n",
       "      <td>4</td>\n",
       "      <td>0.0</td>\n",
       "      <td>2498</td>\n",
       "      <td>Convention Center / 4th St. @ MetroRail</td>\n",
       "      <td>30.26483</td>\n",
       "      <td>-97.73900</td>\n",
       "      <td>2566</td>\n",
       "      <td>Pfluger Bridge @ W 2nd Street</td>\n",
       "      <td>30.26717</td>\n",
       "      <td>-97.75484</td>\n",
       "      <td>58</td>\n",
       "    </tr>\n",
       "    <tr>\n",
       "      <th>2</th>\n",
       "      <td>9900285856</td>\n",
       "      <td>Annual Membership (Austin B-cycle)</td>\n",
       "      <td>214</td>\n",
       "      <td>10/26/2014</td>\n",
       "      <td>10</td>\n",
       "      <td>74</td>\n",
       "      <td>58</td>\n",
       "      <td>62</td>\n",
       "      <td>10</td>\n",
       "      <td>4</td>\n",
       "      <td>0.0</td>\n",
       "      <td>2537</td>\n",
       "      <td>West &amp; 6th St.</td>\n",
       "      <td>30.27041</td>\n",
       "      <td>-97.75046</td>\n",
       "      <td>2496</td>\n",
       "      <td>8th &amp; Congress</td>\n",
       "      <td>30.26980</td>\n",
       "      <td>-97.74186</td>\n",
       "      <td>8</td>\n",
       "    </tr>\n",
       "  </tbody>\n",
       "</table>\n",
       "</div>"
      ],
      "text/plain": [
       "      Trip_ID                     Membership_Type  Bicycle_ID Checkout_Date  \\\n",
       "0  9900285854        Annual (San Antonio B-cycle)         207    10/26/2014   \n",
       "1  9900285855      24-Hour Kiosk (Austin B-cycle)         969    10/26/2014   \n",
       "2  9900285856  Annual Membership (Austin B-cycle)         214    10/26/2014   \n",
       "\n",
       "   Month  TempAvgF  DewPointAvgF  HumidityAvgPercent  VisibilityAvgMiles  \\\n",
       "0     10        74            58                  62                  10   \n",
       "1     10        74            58                  62                  10   \n",
       "2     10        74            58                  62                  10   \n",
       "\n",
       "   WindAvgMPH  PrecipitationSumInches  Checkout_Kiosk_ID  \\\n",
       "0           4                     0.0               2537   \n",
       "1           4                     0.0               2498   \n",
       "2           4                     0.0               2537   \n",
       "\n",
       "                            Checkout_Kiosk  Checkout_Kiosk_latitude  \\\n",
       "0                           West & 6th St.                 30.27041   \n",
       "1  Convention Center / 4th St. @ MetroRail                 30.26483   \n",
       "2                           West & 6th St.                 30.27041   \n",
       "\n",
       "   Checkout_Kiosk_longitude  Return_Kiosk_ID                   Return_Kiosk  \\\n",
       "0                 -97.75046             2707           Rainey St @ Cummings   \n",
       "1                 -97.73900             2566  Pfluger Bridge @ W 2nd Street   \n",
       "2                 -97.75046             2496                 8th & Congress   \n",
       "\n",
       "   Return_Kiosk_latitude  Return_Kiosk_longitude  Trip_Duration_Minutes  \n",
       "0               30.25579               -97.73982                     76  \n",
       "1               30.26717               -97.75484                     58  \n",
       "2               30.26980               -97.74186                      8  "
      ]
     },
     "execution_count": 3,
     "metadata": {},
     "output_type": "execute_result"
    }
   ],
   "source": [
    "dt_full.head(3)"
   ]
  },
  {
   "cell_type": "code",
   "execution_count": 4,
   "id": "ba871ffb-1d70-4c0f-8964-e5e55e32580d",
   "metadata": {},
   "outputs": [],
   "source": [
    "dt_full[\"Checkout_Date\"] = dt_full[\"Checkout_Date\"].apply(pd.to_datetime)"
   ]
  },
  {
   "cell_type": "code",
   "execution_count": 5,
   "id": "3d89f227-562b-4cfd-9479-ce12efea2e0e",
   "metadata": {},
   "outputs": [],
   "source": [
    "#Disregarding the trips which lasted less than 2 minutes\n",
    "dt_full = dt_full[dt_full[\"Trip_Duration_Minutes\"] > 2]\n",
    "dt_full = dt_full.reset_index().drop(columns = \"index\", axis = 1)"
   ]
  },
  {
   "cell_type": "code",
   "execution_count": 6,
   "id": "b3efb99d-aed2-4e6d-b137-84f92c755e18",
   "metadata": {},
   "outputs": [
    {
     "name": "stdout",
     "output_type": "stream",
     "text": [
      "<class 'pandas.core.frame.DataFrame'>\n",
      "RangeIndex: 130943 entries, 0 to 130942\n",
      "Data columns (total 20 columns):\n",
      " #   Column                    Non-Null Count   Dtype         \n",
      "---  ------                    --------------   -----         \n",
      " 0   Trip_ID                   130943 non-null  int64         \n",
      " 1   Membership_Type           130943 non-null  object        \n",
      " 2   Bicycle_ID                130943 non-null  int64         \n",
      " 3   Checkout_Date             130943 non-null  datetime64[ns]\n",
      " 4   Month                     130943 non-null  int64         \n",
      " 5   TempAvgF                  130943 non-null  int64         \n",
      " 6   DewPointAvgF              130943 non-null  int64         \n",
      " 7   HumidityAvgPercent        130943 non-null  int64         \n",
      " 8   VisibilityAvgMiles        130943 non-null  int64         \n",
      " 9   WindAvgMPH                130943 non-null  int64         \n",
      " 10  PrecipitationSumInches    130943 non-null  float64       \n",
      " 11  Checkout_Kiosk_ID         130943 non-null  int64         \n",
      " 12  Checkout_Kiosk            130943 non-null  object        \n",
      " 13  Checkout_Kiosk_latitude   130943 non-null  float64       \n",
      " 14  Checkout_Kiosk_longitude  130943 non-null  float64       \n",
      " 15  Return_Kiosk_ID           130943 non-null  int64         \n",
      " 16  Return_Kiosk              130943 non-null  object        \n",
      " 17  Return_Kiosk_latitude     130943 non-null  float64       \n",
      " 18  Return_Kiosk_longitude    130943 non-null  float64       \n",
      " 19  Trip_Duration_Minutes     130943 non-null  int64         \n",
      "dtypes: datetime64[ns](1), float64(5), int64(11), object(3)\n",
      "memory usage: 20.0+ MB\n"
     ]
    }
   ],
   "source": [
    "dt_full.info()"
   ]
  },
  {
   "cell_type": "code",
   "execution_count": 7,
   "id": "6363c891-38d2-4d28-a89a-bd6fcf78a2bc",
   "metadata": {},
   "outputs": [
    {
     "data": {
      "text/html": [
       "<div>\n",
       "<style scoped>\n",
       "    .dataframe tbody tr th:only-of-type {\n",
       "        vertical-align: middle;\n",
       "    }\n",
       "\n",
       "    .dataframe tbody tr th {\n",
       "        vertical-align: top;\n",
       "    }\n",
       "\n",
       "    .dataframe thead th {\n",
       "        text-align: right;\n",
       "    }\n",
       "</style>\n",
       "<table border=\"1\" class=\"dataframe\">\n",
       "  <thead>\n",
       "    <tr style=\"text-align: right;\">\n",
       "      <th></th>\n",
       "      <th>Trip_ID</th>\n",
       "      <th>Bicycle_ID</th>\n",
       "      <th>Month</th>\n",
       "      <th>TempAvgF</th>\n",
       "      <th>DewPointAvgF</th>\n",
       "      <th>HumidityAvgPercent</th>\n",
       "      <th>VisibilityAvgMiles</th>\n",
       "      <th>WindAvgMPH</th>\n",
       "      <th>PrecipitationSumInches</th>\n",
       "      <th>Checkout_Kiosk_ID</th>\n",
       "      <th>Checkout_Kiosk_latitude</th>\n",
       "      <th>Checkout_Kiosk_longitude</th>\n",
       "      <th>Return_Kiosk_ID</th>\n",
       "      <th>Return_Kiosk_latitude</th>\n",
       "      <th>Return_Kiosk_longitude</th>\n",
       "      <th>Trip_Duration_Minutes</th>\n",
       "    </tr>\n",
       "  </thead>\n",
       "  <tbody>\n",
       "    <tr>\n",
       "      <th>count</th>\n",
       "      <td>1.309430e+05</td>\n",
       "      <td>130943.000000</td>\n",
       "      <td>130943.000000</td>\n",
       "      <td>130943.000000</td>\n",
       "      <td>130943.000000</td>\n",
       "      <td>130943.000000</td>\n",
       "      <td>130943.000000</td>\n",
       "      <td>130943.000000</td>\n",
       "      <td>130943.000000</td>\n",
       "      <td>130943.000000</td>\n",
       "      <td>130943.000000</td>\n",
       "      <td>130943.000000</td>\n",
       "      <td>130943.000000</td>\n",
       "      <td>130943.000000</td>\n",
       "      <td>130943.000000</td>\n",
       "      <td>130943.000000</td>\n",
       "    </tr>\n",
       "    <tr>\n",
       "      <th>mean</th>\n",
       "      <td>9.900175e+09</td>\n",
       "      <td>437.793994</td>\n",
       "      <td>6.619942</td>\n",
       "      <td>72.014632</td>\n",
       "      <td>56.883163</td>\n",
       "      <td>64.506572</td>\n",
       "      <td>9.293738</td>\n",
       "      <td>5.158397</td>\n",
       "      <td>1.009394</td>\n",
       "      <td>2541.797691</td>\n",
       "      <td>30.265651</td>\n",
       "      <td>-97.745155</td>\n",
       "      <td>2539.627059</td>\n",
       "      <td>30.265476</td>\n",
       "      <td>-97.745126</td>\n",
       "      <td>30.070466</td>\n",
       "    </tr>\n",
       "    <tr>\n",
       "      <th>std</th>\n",
       "      <td>9.782433e+04</td>\n",
       "      <td>300.732377</td>\n",
       "      <td>3.086440</td>\n",
       "      <td>11.862285</td>\n",
       "      <td>13.613298</td>\n",
       "      <td>12.114999</td>\n",
       "      <td>1.309328</td>\n",
       "      <td>2.155350</td>\n",
       "      <td>2.919419</td>\n",
       "      <td>53.213339</td>\n",
       "      <td>0.007474</td>\n",
       "      <td>0.008531</td>\n",
       "      <td>52.599374</td>\n",
       "      <td>0.007224</td>\n",
       "      <td>0.008174</td>\n",
       "      <td>71.999591</td>\n",
       "    </tr>\n",
       "    <tr>\n",
       "      <th>min</th>\n",
       "      <td>9.900000e+09</td>\n",
       "      <td>3.000000</td>\n",
       "      <td>1.000000</td>\n",
       "      <td>29.000000</td>\n",
       "      <td>8.000000</td>\n",
       "      <td>27.000000</td>\n",
       "      <td>2.000000</td>\n",
       "      <td>1.000000</td>\n",
       "      <td>0.000000</td>\n",
       "      <td>2494.000000</td>\n",
       "      <td>30.248910</td>\n",
       "      <td>-97.771200</td>\n",
       "      <td>2494.000000</td>\n",
       "      <td>30.248910</td>\n",
       "      <td>-97.771200</td>\n",
       "      <td>3.000000</td>\n",
       "    </tr>\n",
       "    <tr>\n",
       "      <th>25%</th>\n",
       "      <td>9.900097e+09</td>\n",
       "      <td>190.000000</td>\n",
       "      <td>4.000000</td>\n",
       "      <td>63.000000</td>\n",
       "      <td>48.000000</td>\n",
       "      <td>59.000000</td>\n",
       "      <td>9.000000</td>\n",
       "      <td>4.000000</td>\n",
       "      <td>0.000000</td>\n",
       "      <td>2499.000000</td>\n",
       "      <td>30.262000</td>\n",
       "      <td>-97.750190</td>\n",
       "      <td>2499.000000</td>\n",
       "      <td>30.262000</td>\n",
       "      <td>-97.749710</td>\n",
       "      <td>9.000000</td>\n",
       "    </tr>\n",
       "    <tr>\n",
       "      <th>50%</th>\n",
       "      <td>9.900183e+09</td>\n",
       "      <td>387.000000</td>\n",
       "      <td>7.000000</td>\n",
       "      <td>74.000000</td>\n",
       "      <td>62.000000</td>\n",
       "      <td>66.000000</td>\n",
       "      <td>10.000000</td>\n",
       "      <td>5.000000</td>\n",
       "      <td>0.000000</td>\n",
       "      <td>2541.000000</td>\n",
       "      <td>30.264830</td>\n",
       "      <td>-97.743780</td>\n",
       "      <td>2539.000000</td>\n",
       "      <td>30.264830</td>\n",
       "      <td>-97.743780</td>\n",
       "      <td>15.000000</td>\n",
       "    </tr>\n",
       "    <tr>\n",
       "      <th>75%</th>\n",
       "      <td>9.900266e+09</td>\n",
       "      <td>663.000000</td>\n",
       "      <td>10.000000</td>\n",
       "      <td>83.000000</td>\n",
       "      <td>68.000000</td>\n",
       "      <td>71.000000</td>\n",
       "      <td>10.000000</td>\n",
       "      <td>7.000000</td>\n",
       "      <td>0.010000</td>\n",
       "      <td>2565.000000</td>\n",
       "      <td>30.269600</td>\n",
       "      <td>-97.739820</td>\n",
       "      <td>2564.000000</td>\n",
       "      <td>30.269600</td>\n",
       "      <td>-97.739820</td>\n",
       "      <td>27.000000</td>\n",
       "    </tr>\n",
       "    <tr>\n",
       "      <th>max</th>\n",
       "      <td>9.900343e+09</td>\n",
       "      <td>1000.000000</td>\n",
       "      <td>12.000000</td>\n",
       "      <td>92.000000</td>\n",
       "      <td>74.000000</td>\n",
       "      <td>97.000000</td>\n",
       "      <td>10.000000</td>\n",
       "      <td>11.000000</td>\n",
       "      <td>10.000000</td>\n",
       "      <td>2823.000000</td>\n",
       "      <td>30.285760</td>\n",
       "      <td>-97.710070</td>\n",
       "      <td>2823.000000</td>\n",
       "      <td>30.285760</td>\n",
       "      <td>-97.710070</td>\n",
       "      <td>6685.000000</td>\n",
       "    </tr>\n",
       "  </tbody>\n",
       "</table>\n",
       "</div>"
      ],
      "text/plain": [
       "            Trip_ID     Bicycle_ID          Month       TempAvgF  \\\n",
       "count  1.309430e+05  130943.000000  130943.000000  130943.000000   \n",
       "mean   9.900175e+09     437.793994       6.619942      72.014632   \n",
       "std    9.782433e+04     300.732377       3.086440      11.862285   \n",
       "min    9.900000e+09       3.000000       1.000000      29.000000   \n",
       "25%    9.900097e+09     190.000000       4.000000      63.000000   \n",
       "50%    9.900183e+09     387.000000       7.000000      74.000000   \n",
       "75%    9.900266e+09     663.000000      10.000000      83.000000   \n",
       "max    9.900343e+09    1000.000000      12.000000      92.000000   \n",
       "\n",
       "        DewPointAvgF  HumidityAvgPercent  VisibilityAvgMiles     WindAvgMPH  \\\n",
       "count  130943.000000       130943.000000       130943.000000  130943.000000   \n",
       "mean       56.883163           64.506572            9.293738       5.158397   \n",
       "std        13.613298           12.114999            1.309328       2.155350   \n",
       "min         8.000000           27.000000            2.000000       1.000000   \n",
       "25%        48.000000           59.000000            9.000000       4.000000   \n",
       "50%        62.000000           66.000000           10.000000       5.000000   \n",
       "75%        68.000000           71.000000           10.000000       7.000000   \n",
       "max        74.000000           97.000000           10.000000      11.000000   \n",
       "\n",
       "       PrecipitationSumInches  Checkout_Kiosk_ID  Checkout_Kiosk_latitude  \\\n",
       "count           130943.000000      130943.000000            130943.000000   \n",
       "mean                 1.009394        2541.797691                30.265651   \n",
       "std                  2.919419          53.213339                 0.007474   \n",
       "min                  0.000000        2494.000000                30.248910   \n",
       "25%                  0.000000        2499.000000                30.262000   \n",
       "50%                  0.000000        2541.000000                30.264830   \n",
       "75%                  0.010000        2565.000000                30.269600   \n",
       "max                 10.000000        2823.000000                30.285760   \n",
       "\n",
       "       Checkout_Kiosk_longitude  Return_Kiosk_ID  Return_Kiosk_latitude  \\\n",
       "count             130943.000000    130943.000000          130943.000000   \n",
       "mean                 -97.745155      2539.627059              30.265476   \n",
       "std                    0.008531        52.599374               0.007224   \n",
       "min                  -97.771200      2494.000000              30.248910   \n",
       "25%                  -97.750190      2499.000000              30.262000   \n",
       "50%                  -97.743780      2539.000000              30.264830   \n",
       "75%                  -97.739820      2564.000000              30.269600   \n",
       "max                  -97.710070      2823.000000              30.285760   \n",
       "\n",
       "       Return_Kiosk_longitude  Trip_Duration_Minutes  \n",
       "count           130943.000000          130943.000000  \n",
       "mean               -97.745126              30.070466  \n",
       "std                  0.008174              71.999591  \n",
       "min                -97.771200               3.000000  \n",
       "25%                -97.749710               9.000000  \n",
       "50%                -97.743780              15.000000  \n",
       "75%                -97.739820              27.000000  \n",
       "max                -97.710070            6685.000000  "
      ]
     },
     "execution_count": 7,
     "metadata": {},
     "output_type": "execute_result"
    }
   ],
   "source": [
    "dt_full.describe()"
   ]
  },
  {
   "cell_type": "code",
   "execution_count": 8,
   "id": "2d37de56-74a3-447d-86b7-c247dc32c82e",
   "metadata": {},
   "outputs": [
    {
     "data": {
      "text/html": [
       "<div>\n",
       "<style scoped>\n",
       "    .dataframe tbody tr th:only-of-type {\n",
       "        vertical-align: middle;\n",
       "    }\n",
       "\n",
       "    .dataframe tbody tr th {\n",
       "        vertical-align: top;\n",
       "    }\n",
       "\n",
       "    .dataframe thead th {\n",
       "        text-align: right;\n",
       "    }\n",
       "</style>\n",
       "<table border=\"1\" class=\"dataframe\">\n",
       "  <thead>\n",
       "    <tr style=\"text-align: right;\">\n",
       "      <th></th>\n",
       "      <th>Membership_Type</th>\n",
       "      <th>Checkout_Kiosk</th>\n",
       "      <th>Return_Kiosk</th>\n",
       "    </tr>\n",
       "  </thead>\n",
       "  <tbody>\n",
       "    <tr>\n",
       "      <th>count</th>\n",
       "      <td>130943</td>\n",
       "      <td>130943</td>\n",
       "      <td>130943</td>\n",
       "    </tr>\n",
       "    <tr>\n",
       "      <th>unique</th>\n",
       "      <td>30</td>\n",
       "      <td>44</td>\n",
       "      <td>44</td>\n",
       "    </tr>\n",
       "    <tr>\n",
       "      <th>top</th>\n",
       "      <td>24-Hour Kiosk (Austin B-cycle)</td>\n",
       "      <td>City Hall / Lavaca &amp; 2nd</td>\n",
       "      <td>City Hall / Lavaca &amp; 2nd</td>\n",
       "    </tr>\n",
       "    <tr>\n",
       "      <th>freq</th>\n",
       "      <td>89050</td>\n",
       "      <td>7837</td>\n",
       "      <td>9183</td>\n",
       "    </tr>\n",
       "  </tbody>\n",
       "</table>\n",
       "</div>"
      ],
      "text/plain": [
       "                       Membership_Type            Checkout_Kiosk  \\\n",
       "count                           130943                    130943   \n",
       "unique                              30                        44   \n",
       "top     24-Hour Kiosk (Austin B-cycle)  City Hall / Lavaca & 2nd   \n",
       "freq                             89050                      7837   \n",
       "\n",
       "                    Return_Kiosk  \n",
       "count                     130943  \n",
       "unique                        44  \n",
       "top     City Hall / Lavaca & 2nd  \n",
       "freq                        9183  "
      ]
     },
     "execution_count": 8,
     "metadata": {},
     "output_type": "execute_result"
    }
   ],
   "source": [
    "dt_full.describe(include = ['O'])"
   ]
  },
  {
   "cell_type": "code",
   "execution_count": 9,
   "id": "9f483fc9-15a4-43e8-89c4-1280753aa34c",
   "metadata": {},
   "outputs": [],
   "source": [
    "#Calculating distance in Km between 2 sets of latitude and longitudes\n",
    "def distance(lat1, lon1, lat2, lon2):\n",
    "    \n",
    "    coords_1 = (lat1, lon1)\n",
    "    coords_2 = (lat2, lon2)\n",
    "\n",
    "    return geopy.distance.distance(coords_1, coords_2).miles"
   ]
  },
  {
   "cell_type": "code",
   "execution_count": 10,
   "id": "1bd64d62-f73c-4036-819f-d4ca9815c798",
   "metadata": {},
   "outputs": [],
   "source": [
    "dist = []\n",
    "for i in range(dt_full.shape[0]):\n",
    "    dist.append(distance(dt_full[\"Checkout_Kiosk_latitude\"][i], dt_full[\"Checkout_Kiosk_longitude\"][i],\n",
    "                         dt_full[\"Return_Kiosk_latitude\"][i], dt_full[\"Return_Kiosk_longitude\"][i]))\n",
    "dt_full[\"Distance\"] = [round(x,2) for x in dist]"
   ]
  },
  {
   "cell_type": "code",
   "execution_count": 11,
   "id": "6f97cdbc-cbd8-4771-8502-e51b32dbe392",
   "metadata": {},
   "outputs": [],
   "source": [
    "#Calculating revenue from the ride\n",
    "\n",
    "#Cost Card\n",
    "base_rate = 1 #fixed to unlock\n",
    "variable_rate = 0.23 #per minute after that\n",
    "\n",
    "def rev_calc(duration):\n",
    "    return base_rate + (duration)*variable_rate"
   ]
  },
  {
   "cell_type": "code",
   "execution_count": 12,
   "id": "0dd99863-0422-492d-81ef-5a4ad2f508ab",
   "metadata": {},
   "outputs": [],
   "source": [
    "#Appending a revenue column to our table\n",
    "rev = []\n",
    "for i in range(dt_full.shape[0]):\n",
    "    rev.append(rev_calc(dt_full[\"Trip_Duration_Minutes\"][i]))\n",
    "dt_full[\"Revenue\"] = [round(x,2) for x in rev]"
   ]
  },
  {
   "cell_type": "markdown",
   "id": "cf5f89bb-5521-41da-a3fa-65722e783bdc",
   "metadata": {
    "tags": []
   },
   "source": [
    "#### Problem - Travelling Salesman Problem"
   ]
  },
  {
   "cell_type": "markdown",
   "id": "84e0560c-de2b-4f6b-9024-485a2337399e",
   "metadata": {},
   "source": [
    "Now we make a graph with checkout kiosks and return kiosks as nodes and distance as the edge strength. "
   ]
  },
  {
   "cell_type": "code",
   "execution_count": 13,
   "id": "14d986b8-c968-4ffe-8fd7-f55afc00e6bc",
   "metadata": {},
   "outputs": [],
   "source": [
    "trips = pd.DataFrame(dt_full.groupby(by = [\"Checkout_Kiosk_ID\",\"Return_Kiosk_ID\"])\n",
    "                     .size().sort_values(ascending = False).reset_index())\n",
    "diff_trips = trips\n",
    "diff_trips.rename(columns={0: 'NoOfTrips'}, inplace = True)\n",
    "diff_trips.reset_index(inplace = True)\n",
    "diff_trips.drop(columns = 'index', inplace = True)"
   ]
  },
  {
   "cell_type": "code",
   "execution_count": 14,
   "id": "77ddb729-568c-48a6-92ea-02f4617fec17",
   "metadata": {},
   "outputs": [],
   "source": [
    "dist = pd.DataFrame(dt_full.groupby([\"Checkout_Kiosk_ID\", \"Return_Kiosk_ID\"])\n",
    "                   [\"Distance\"].mean().reset_index())\n",
    "diff_trips = pd.merge(diff_trips, dist, on = [\"Checkout_Kiosk_ID\", \"Return_Kiosk_ID\"])\n",
    "\n",
    "tdm = pd.DataFrame(dt_full.groupby([\"Checkout_Kiosk_ID\", \"Return_Kiosk_ID\"])\n",
    "                   [\"Trip_Duration_Minutes\"].mean().reset_index())\n",
    "diff_trips = pd.merge(diff_trips, tdm, on = [\"Checkout_Kiosk_ID\", \"Return_Kiosk_ID\"])\n",
    "diff_trips.rename(columns={\"Trip_Duration_Minutes\": 'AvgTripDuration'}, inplace = True)"
   ]
  },
  {
   "cell_type": "code",
   "execution_count": 15,
   "id": "ad9abb9f-2ecf-4e91-9fe5-3b22286cafc9",
   "metadata": {},
   "outputs": [
    {
     "data": {
      "text/html": [
       "<div>\n",
       "<style scoped>\n",
       "    .dataframe tbody tr th:only-of-type {\n",
       "        vertical-align: middle;\n",
       "    }\n",
       "\n",
       "    .dataframe tbody tr th {\n",
       "        vertical-align: top;\n",
       "    }\n",
       "\n",
       "    .dataframe thead th {\n",
       "        text-align: right;\n",
       "    }\n",
       "</style>\n",
       "<table border=\"1\" class=\"dataframe\">\n",
       "  <thead>\n",
       "    <tr style=\"text-align: right;\">\n",
       "      <th></th>\n",
       "      <th>Checkout_Kiosk_ID</th>\n",
       "      <th>Return_Kiosk_ID</th>\n",
       "      <th>NoOfTrips</th>\n",
       "      <th>Distance</th>\n",
       "      <th>AvgTripDuration</th>\n",
       "    </tr>\n",
       "  </thead>\n",
       "  <tbody>\n",
       "    <tr>\n",
       "      <th>0</th>\n",
       "      <td>2575</td>\n",
       "      <td>2575</td>\n",
       "      <td>1768</td>\n",
       "      <td>0.00</td>\n",
       "      <td>53.033371</td>\n",
       "    </tr>\n",
       "    <tr>\n",
       "      <th>1</th>\n",
       "      <td>2499</td>\n",
       "      <td>2499</td>\n",
       "      <td>1210</td>\n",
       "      <td>0.00</td>\n",
       "      <td>75.216529</td>\n",
       "    </tr>\n",
       "    <tr>\n",
       "      <th>2</th>\n",
       "      <td>2497</td>\n",
       "      <td>2497</td>\n",
       "      <td>931</td>\n",
       "      <td>0.00</td>\n",
       "      <td>59.085929</td>\n",
       "    </tr>\n",
       "    <tr>\n",
       "      <th>3</th>\n",
       "      <td>2502</td>\n",
       "      <td>2502</td>\n",
       "      <td>880</td>\n",
       "      <td>0.00</td>\n",
       "      <td>77.948864</td>\n",
       "    </tr>\n",
       "    <tr>\n",
       "      <th>4</th>\n",
       "      <td>2550</td>\n",
       "      <td>2501</td>\n",
       "      <td>841</td>\n",
       "      <td>0.40</td>\n",
       "      <td>6.602854</td>\n",
       "    </tr>\n",
       "    <tr>\n",
       "      <th>...</th>\n",
       "      <td>...</td>\n",
       "      <td>...</td>\n",
       "      <td>...</td>\n",
       "      <td>...</td>\n",
       "      <td>...</td>\n",
       "    </tr>\n",
       "    <tr>\n",
       "      <th>1819</th>\n",
       "      <td>2569</td>\n",
       "      <td>2712</td>\n",
       "      <td>1</td>\n",
       "      <td>1.71</td>\n",
       "      <td>22.000000</td>\n",
       "    </tr>\n",
       "    <tr>\n",
       "      <th>1820</th>\n",
       "      <td>2569</td>\n",
       "      <td>2545</td>\n",
       "      <td>1</td>\n",
       "      <td>1.09</td>\n",
       "      <td>8.000000</td>\n",
       "    </tr>\n",
       "    <tr>\n",
       "      <th>1821</th>\n",
       "      <td>2544</td>\n",
       "      <td>2541</td>\n",
       "      <td>1</td>\n",
       "      <td>2.01</td>\n",
       "      <td>28.000000</td>\n",
       "    </tr>\n",
       "    <tr>\n",
       "      <th>1822</th>\n",
       "      <td>2823</td>\n",
       "      <td>2538</td>\n",
       "      <td>1</td>\n",
       "      <td>2.36</td>\n",
       "      <td>25.000000</td>\n",
       "    </tr>\n",
       "    <tr>\n",
       "      <th>1823</th>\n",
       "      <td>2545</td>\n",
       "      <td>2567</td>\n",
       "      <td>1</td>\n",
       "      <td>1.18</td>\n",
       "      <td>10.000000</td>\n",
       "    </tr>\n",
       "  </tbody>\n",
       "</table>\n",
       "<p>1824 rows × 5 columns</p>\n",
       "</div>"
      ],
      "text/plain": [
       "      Checkout_Kiosk_ID  Return_Kiosk_ID  NoOfTrips  Distance  AvgTripDuration\n",
       "0                  2575             2575       1768      0.00        53.033371\n",
       "1                  2499             2499       1210      0.00        75.216529\n",
       "2                  2497             2497        931      0.00        59.085929\n",
       "3                  2502             2502        880      0.00        77.948864\n",
       "4                  2550             2501        841      0.40         6.602854\n",
       "...                 ...              ...        ...       ...              ...\n",
       "1819               2569             2712          1      1.71        22.000000\n",
       "1820               2569             2545          1      1.09         8.000000\n",
       "1821               2544             2541          1      2.01        28.000000\n",
       "1822               2823             2538          1      2.36        25.000000\n",
       "1823               2545             2567          1      1.18        10.000000\n",
       "\n",
       "[1824 rows x 5 columns]"
      ]
     },
     "execution_count": 15,
     "metadata": {},
     "output_type": "execute_result"
    }
   ],
   "source": [
    "diff_trips"
   ]
  },
  {
   "cell_type": "code",
   "execution_count": 16,
   "id": "6087f0e0-079c-4565-bf32-7dd8c8b85d75",
   "metadata": {},
   "outputs": [],
   "source": [
    "#Function to calculate distance travelled in a path\n",
    "def path_dist(path):    \n",
    "    travel = 0\n",
    "    for i in range(len(path)-1):\n",
    "\n",
    "        val = diff_trips[(diff_trips[\"Checkout_Kiosk_ID\"] == path[i]) & (diff_trips[\"Return_Kiosk_ID\"] == path[i+1])][\"Distance\"]\n",
    "        \n",
    "        if val.size == 0:\n",
    "            continue\n",
    "        \n",
    "        travel += val.values[0]\n",
    "\n",
    "    return travel"
   ]
  },
  {
   "cell_type": "code",
   "execution_count": 17,
   "id": "8b42b699-ec84-40e9-a544-c37612b4be6b",
   "metadata": {},
   "outputs": [
    {
     "data": {
      "text/plain": [
       "42.97999999999999"
      ]
     },
     "execution_count": 17,
     "metadata": {},
     "output_type": "execute_result"
    }
   ],
   "source": [
    "#Calculating the distance covered currently without analysis\n",
    "path =  diff_trips['Checkout_Kiosk_ID'].unique()\n",
    "random.seed(1)\n",
    "random.shuffle(path)\n",
    "path_dist(path)"
   ]
  },
  {
   "cell_type": "code",
   "execution_count": 18,
   "id": "8ca1817b-28b2-43cc-a66b-ff3e3ff1fbf0",
   "metadata": {},
   "outputs": [
    {
     "data": {
      "image/png": "[encoded data removed]",
      "text/plain": [
       "<Figure size 432x288 with 1 Axes>"
      ]
     },
     "metadata": {},
     "output_type": "display_data"
    }
   ],
   "source": [
    "#Making a graph\n",
    "G = nx.from_pandas_edgelist(diff_trips, \"Checkout_Kiosk_ID\", \"Return_Kiosk_ID\", \"Distance\", \n",
    "                            create_using = nx.DiGraph()) \n",
    "pos = nx.spring_layout(G)\n",
    "nx.draw(G, pos, with_labels=True)\n",
    "labels = nx.get_edge_attributes(G,'Distance')\n",
    "nx.draw_networkx_edge_labels(G, pos, edge_labels=labels)\n",
    "plt.show()"
   ]
  },
  {
   "cell_type": "code",
   "execution_count": 19,
   "id": "a300b8ea-1bc0-44e4-9bc1-98e95464028f",
   "metadata": {},
   "outputs": [],
   "source": [
    "tsp = nx.approximation.traveling_salesman_problem\n",
    "tsp_path = tsp(G, weight = \"Distance\")"
   ]
  },
  {
   "cell_type": "code",
   "execution_count": 20,
   "id": "49972e43-7800-4728-9a5d-ec55a6602c16",
   "metadata": {},
   "outputs": [
    {
     "data": {
      "text/plain": [
       "37.580000000000005"
      ]
     },
     "execution_count": 20,
     "metadata": {},
     "output_type": "execute_result"
    }
   ],
   "source": [
    "path_dist(tsp_path)"
   ]
  },
  {
   "cell_type": "markdown",
   "id": "78467ef6-3fc4-45fc-8733-0f4cbac9fa86",
   "metadata": {
    "tags": []
   },
   "source": [
    "#### Problem - Predicting Trip Duration"
   ]
  },
  {
   "cell_type": "markdown",
   "id": "68af0cc4-ed46-4c63-b456-6a9d31341bcc",
   "metadata": {},
   "source": [
    "Based on the weather conditions, checkout and return kiosks, and month, we would like to predict the trip duration for a particular route. "
   ]
  },
  {
   "cell_type": "code",
   "execution_count": 21,
   "id": "a2e41a32-e28d-46cb-9351-0237c411fa76",
   "metadata": {},
   "outputs": [],
   "source": [
    "dt_pred = dt_full.drop(columns = [\"Trip_ID\", \"Checkout_Date\", \"Checkout_Kiosk\",\n",
    "                                  \"Return_Kiosk\", \"Revenue\",# \"Membership_Type\",\n",
    "                                  \"Return_Kiosk_ID\", \"Return_Kiosk_latitude\",\n",
    "                                  \"Return_Kiosk_longitude\"])\n",
    "#reducing the dataset to save on computation time\n",
    "dt_pred = dt_pred.sample(frac = 0.1, replace = False, random_state=1) \n",
    "\n",
    "#Creating dummies for the Membership_type categorical variable\n",
    "Membership_dummies = pd.get_dummies(dt_pred.Membership_Type, drop_first = True)"
   ]
  },
  {
   "cell_type": "code",
   "execution_count": 22,
   "id": "3c7563c2-2f7f-4504-9b06-6b016e7d8d86",
   "metadata": {},
   "outputs": [
    {
     "data": {
      "text/html": [
       "<div>\n",
       "<style scoped>\n",
       "    .dataframe tbody tr th:only-of-type {\n",
       "        vertical-align: middle;\n",
       "    }\n",
       "\n",
       "    .dataframe tbody tr th {\n",
       "        vertical-align: top;\n",
       "    }\n",
       "\n",
       "    .dataframe thead th {\n",
       "        text-align: right;\n",
       "    }\n",
       "</style>\n",
       "<table border=\"1\" class=\"dataframe\">\n",
       "  <thead>\n",
       "    <tr style=\"text-align: right;\">\n",
       "      <th></th>\n",
       "      <th>Membership_Type</th>\n",
       "      <th>Bicycle_ID</th>\n",
       "      <th>Month</th>\n",
       "      <th>TempAvgF</th>\n",
       "      <th>DewPointAvgF</th>\n",
       "      <th>HumidityAvgPercent</th>\n",
       "      <th>VisibilityAvgMiles</th>\n",
       "      <th>WindAvgMPH</th>\n",
       "      <th>PrecipitationSumInches</th>\n",
       "      <th>Checkout_Kiosk_ID</th>\n",
       "      <th>Checkout_Kiosk_latitude</th>\n",
       "      <th>Checkout_Kiosk_longitude</th>\n",
       "      <th>Trip_Duration_Minutes</th>\n",
       "      <th>Distance</th>\n",
       "      <th>24-Hour-Online (Austin B-cycle)</th>\n",
       "      <th>7-Day</th>\n",
       "      <th>7-Day Membership (Austin B-cycle)</th>\n",
       "      <th>ACL Weekend Pass Special (Austin B-cycle)</th>\n",
       "      <th>Annual (Boulder B-cycle)</th>\n",
       "      <th>Annual (Broward B-cycle)</th>\n",
       "      <th>Annual (Cincy Red Bike)</th>\n",
       "      <th>Annual (Denver B-cycle)</th>\n",
       "      <th>Annual (Denver Bike Sharing)</th>\n",
       "      <th>Annual (Kansas City B-cycle)</th>\n",
       "      <th>Annual (Madison B-cycle)</th>\n",
       "      <th>Annual (Nashville B-cycle)</th>\n",
       "      <th>Annual (San Antonio B-cycle)</th>\n",
       "      <th>Annual Member (Houston B-cycle)</th>\n",
       "      <th>Annual Membership (Austin B-cycle)</th>\n",
       "      <th>Annual Membership (Charlotte B-cycle)</th>\n",
       "      <th>Annual Membership (Fort Worth Bike Sharing)</th>\n",
       "      <th>Annual Membership (GREENbike)</th>\n",
       "      <th>Annual Membership (Indy - Pacers Bikeshare )</th>\n",
       "      <th>Explorer</th>\n",
       "      <th>Founding Member</th>\n",
       "      <th>Founding Member (Austin B-cycle)</th>\n",
       "      <th>FunFunFun Fest 3 Day Pass</th>\n",
       "      <th>Local30</th>\n",
       "      <th>Local365</th>\n",
       "      <th>Semester Membership</th>\n",
       "      <th>Semester Membership (Austin B-cycle)</th>\n",
       "      <th>Walk Up</th>\n",
       "    </tr>\n",
       "  </thead>\n",
       "  <tbody>\n",
       "    <tr>\n",
       "      <th>4844</th>\n",
       "      <td>24-Hour Kiosk (Austin B-cycle)</td>\n",
       "      <td>509</td>\n",
       "      <td>11</td>\n",
       "      <td>60</td>\n",
       "      <td>41</td>\n",
       "      <td>53</td>\n",
       "      <td>10</td>\n",
       "      <td>2</td>\n",
       "      <td>0.00</td>\n",
       "      <td>2504</td>\n",
       "      <td>30.24891</td>\n",
       "      <td>-97.75019</td>\n",
       "      <td>20</td>\n",
       "      <td>0.72</td>\n",
       "      <td>0</td>\n",
       "      <td>0</td>\n",
       "      <td>0</td>\n",
       "      <td>0</td>\n",
       "      <td>0</td>\n",
       "      <td>0</td>\n",
       "      <td>0</td>\n",
       "      <td>0</td>\n",
       "      <td>0</td>\n",
       "      <td>0</td>\n",
       "      <td>0</td>\n",
       "      <td>0</td>\n",
       "      <td>0</td>\n",
       "      <td>0</td>\n",
       "      <td>0</td>\n",
       "      <td>0</td>\n",
       "      <td>0</td>\n",
       "      <td>0</td>\n",
       "      <td>0</td>\n",
       "      <td>0</td>\n",
       "      <td>0</td>\n",
       "      <td>0</td>\n",
       "      <td>0</td>\n",
       "      <td>0</td>\n",
       "      <td>0</td>\n",
       "      <td>0</td>\n",
       "      <td>0</td>\n",
       "      <td>0</td>\n",
       "    </tr>\n",
       "    <tr>\n",
       "      <th>126245</th>\n",
       "      <td>24-Hour Kiosk (Austin B-cycle)</td>\n",
       "      <td>281</td>\n",
       "      <td>10</td>\n",
       "      <td>74</td>\n",
       "      <td>60</td>\n",
       "      <td>69</td>\n",
       "      <td>10</td>\n",
       "      <td>3</td>\n",
       "      <td>0.00</td>\n",
       "      <td>2542</td>\n",
       "      <td>30.26217</td>\n",
       "      <td>-97.72743</td>\n",
       "      <td>11</td>\n",
       "      <td>0.67</td>\n",
       "      <td>0</td>\n",
       "      <td>0</td>\n",
       "      <td>0</td>\n",
       "      <td>0</td>\n",
       "      <td>0</td>\n",
       "      <td>0</td>\n",
       "      <td>0</td>\n",
       "      <td>0</td>\n",
       "      <td>0</td>\n",
       "      <td>0</td>\n",
       "      <td>0</td>\n",
       "      <td>0</td>\n",
       "      <td>0</td>\n",
       "      <td>0</td>\n",
       "      <td>0</td>\n",
       "      <td>0</td>\n",
       "      <td>0</td>\n",
       "      <td>0</td>\n",
       "      <td>0</td>\n",
       "      <td>0</td>\n",
       "      <td>0</td>\n",
       "      <td>0</td>\n",
       "      <td>0</td>\n",
       "      <td>0</td>\n",
       "      <td>0</td>\n",
       "      <td>0</td>\n",
       "      <td>0</td>\n",
       "      <td>0</td>\n",
       "    </tr>\n",
       "    <tr>\n",
       "      <th>105086</th>\n",
       "      <td>Annual Membership (Austin B-cycle)</td>\n",
       "      <td>885</td>\n",
       "      <td>8</td>\n",
       "      <td>87</td>\n",
       "      <td>72</td>\n",
       "      <td>64</td>\n",
       "      <td>10</td>\n",
       "      <td>5</td>\n",
       "      <td>0.07</td>\n",
       "      <td>2539</td>\n",
       "      <td>30.26426</td>\n",
       "      <td>-97.74023</td>\n",
       "      <td>25</td>\n",
       "      <td>0.86</td>\n",
       "      <td>0</td>\n",
       "      <td>0</td>\n",
       "      <td>0</td>\n",
       "      <td>0</td>\n",
       "      <td>0</td>\n",
       "      <td>0</td>\n",
       "      <td>0</td>\n",
       "      <td>0</td>\n",
       "      <td>0</td>\n",
       "      <td>0</td>\n",
       "      <td>0</td>\n",
       "      <td>0</td>\n",
       "      <td>0</td>\n",
       "      <td>0</td>\n",
       "      <td>1</td>\n",
       "      <td>0</td>\n",
       "      <td>0</td>\n",
       "      <td>0</td>\n",
       "      <td>0</td>\n",
       "      <td>0</td>\n",
       "      <td>0</td>\n",
       "      <td>0</td>\n",
       "      <td>0</td>\n",
       "      <td>0</td>\n",
       "      <td>0</td>\n",
       "      <td>0</td>\n",
       "      <td>0</td>\n",
       "      <td>0</td>\n",
       "    </tr>\n",
       "  </tbody>\n",
       "</table>\n",
       "</div>"
      ],
      "text/plain": [
       "                           Membership_Type  Bicycle_ID  Month  TempAvgF  \\\n",
       "4844        24-Hour Kiosk (Austin B-cycle)         509     11        60   \n",
       "126245      24-Hour Kiosk (Austin B-cycle)         281     10        74   \n",
       "105086  Annual Membership (Austin B-cycle)         885      8        87   \n",
       "\n",
       "        DewPointAvgF  HumidityAvgPercent  VisibilityAvgMiles  WindAvgMPH  \\\n",
       "4844              41                  53                  10           2   \n",
       "126245            60                  69                  10           3   \n",
       "105086            72                  64                  10           5   \n",
       "\n",
       "        PrecipitationSumInches  Checkout_Kiosk_ID  Checkout_Kiosk_latitude  \\\n",
       "4844                      0.00               2504                 30.24891   \n",
       "126245                    0.00               2542                 30.26217   \n",
       "105086                    0.07               2539                 30.26426   \n",
       "\n",
       "        Checkout_Kiosk_longitude  Trip_Duration_Minutes  Distance  \\\n",
       "4844                   -97.75019                     20      0.72   \n",
       "126245                 -97.72743                     11      0.67   \n",
       "105086                 -97.74023                     25      0.86   \n",
       "\n",
       "        24-Hour-Online (Austin B-cycle)  7-Day  \\\n",
       "4844                                  0      0   \n",
       "126245                                0      0   \n",
       "105086                                0      0   \n",
       "\n",
       "        7-Day Membership (Austin B-cycle)  \\\n",
       "4844                                    0   \n",
       "126245                                  0   \n",
       "105086                                  0   \n",
       "\n",
       "        ACL Weekend Pass Special (Austin B-cycle)  Annual (Boulder B-cycle)  \\\n",
       "4844                                            0                         0   \n",
       "126245                                          0                         0   \n",
       "105086                                          0                         0   \n",
       "\n",
       "        Annual (Broward B-cycle)  Annual (Cincy Red Bike)  \\\n",
       "4844                           0                        0   \n",
       "126245                         0                        0   \n",
       "105086                         0                        0   \n",
       "\n",
       "        Annual (Denver B-cycle)  Annual (Denver Bike Sharing)  \\\n",
       "4844                          0                             0   \n",
       "126245                        0                             0   \n",
       "105086                        0                             0   \n",
       "\n",
       "        Annual (Kansas City B-cycle)  Annual (Madison B-cycle)  \\\n",
       "4844                               0                         0   \n",
       "126245                             0                         0   \n",
       "105086                             0                         0   \n",
       "\n",
       "        Annual (Nashville B-cycle)  Annual (San Antonio B-cycle)  \\\n",
       "4844                             0                             0   \n",
       "126245                           0                             0   \n",
       "105086                           0                             0   \n",
       "\n",
       "        Annual Member (Houston B-cycle)  Annual Membership (Austin B-cycle)  \\\n",
       "4844                                  0                                   0   \n",
       "126245                                0                                   0   \n",
       "105086                                0                                   1   \n",
       "\n",
       "        Annual Membership (Charlotte B-cycle)  \\\n",
       "4844                                        0   \n",
       "126245                                      0   \n",
       "105086                                      0   \n",
       "\n",
       "        Annual Membership (Fort Worth Bike Sharing)  \\\n",
       "4844                                              0   \n",
       "126245                                            0   \n",
       "105086                                            0   \n",
       "\n",
       "        Annual Membership (GREENbike)  \\\n",
       "4844                                0   \n",
       "126245                              0   \n",
       "105086                              0   \n",
       "\n",
       "        Annual Membership (Indy - Pacers Bikeshare )  Explorer  \\\n",
       "4844                                               0         0   \n",
       "126245                                             0         0   \n",
       "105086                                             0         0   \n",
       "\n",
       "        Founding Member  Founding Member (Austin B-cycle)  \\\n",
       "4844                  0                                 0   \n",
       "126245                0                                 0   \n",
       "105086                0                                 0   \n",
       "\n",
       "        FunFunFun Fest 3 Day Pass  Local30  Local365  Semester Membership  \\\n",
       "4844                            0        0         0                    0   \n",
       "126245                          0        0         0                    0   \n",
       "105086                          0        0         0                    0   \n",
       "\n",
       "        Semester Membership (Austin B-cycle)  Walk Up  \n",
       "4844                                       0        0  \n",
       "126245                                     0        0  \n",
       "105086                                     0        0  "
      ]
     },
     "execution_count": 22,
     "metadata": {},
     "output_type": "execute_result"
    }
   ],
   "source": [
    "dt_pred = pd.concat([dt_pred, Membership_dummies], axis = 1, ignore_index = False)\n",
    "dt_pred.head(3)"
   ]
  },
  {
   "cell_type": "code",
   "execution_count": 23,
   "id": "f1404281-6863-42ae-8956-5b5640dbb568",
   "metadata": {},
   "outputs": [],
   "source": [
    "Y = dt_pred[\"Trip_Duration_Minutes\"]\n",
    "X = dt_pred.drop(columns = [\"Trip_Duration_Minutes\", \"Membership_Type\"])"
   ]
  },
  {
   "cell_type": "code",
   "execution_count": 24,
   "id": "d351001e-cf44-4e8e-9a9c-f79ba76d44dd",
   "metadata": {},
   "outputs": [],
   "source": [
    "seed = 590\n",
    "test_size = 0.30\n",
    "X_train, X_test, y_train, y_test = train_test_split(X, Y, test_size=test_size, random_state=seed)"
   ]
  },
  {
   "cell_type": "code",
   "execution_count": 25,
   "id": "05bb8210-d026-47a3-9f75-034de3301744",
   "metadata": {},
   "outputs": [
    {
     "name": "stdout",
     "output_type": "stream",
     "text": [
      "[17:30:23] WARNING: C:/Users/Administrator/workspace/xgboost-win64_release_1.5.1/src/learner.cc:1115: Starting in XGBoost 1.3.0, the default evaluation metric used with the objective 'multi:softprob' was changed from 'merror' to 'mlogloss'. Explicitly set eval_metric if you'd like to restore the old behavior.\n"
     ]
    },
    {
     "data": {
      "text/plain": [
       "XGBClassifier(base_score=0.5, booster='gbtree', colsample_bylevel=1,\n",
       "              colsample_bynode=1, colsample_bytree=1, enable_categorical=False,\n",
       "              gamma=0, gpu_id=-1, importance_type=None,\n",
       "              interaction_constraints='', learning_rate=0.300000012,\n",
       "              max_delta_step=0, max_depth=6, min_child_weight=1, missing=nan,\n",
       "              monotone_constraints='()', n_estimators=100, n_jobs=8,\n",
       "              num_parallel_tree=1, objective='multi:softprob', predictor='auto',\n",
       "              random_state=0, reg_alpha=0, reg_lambda=1, scale_pos_weight=None,\n",
       "              subsample=1, tree_method='exact', validate_parameters=1,\n",
       "              verbosity=None)"
      ]
     },
     "execution_count": 25,
     "metadata": {},
     "output_type": "execute_result"
    }
   ],
   "source": [
    "#lm = LinearRegression()# fit model to training data\n",
    "lm = XGBClassifier()\n",
    "lm.fit(X_train,y_train)"
   ]
  },
  {
   "cell_type": "code",
   "execution_count": 26,
   "id": "99af2a63-ef96-46db-9479-f372351a6adb",
   "metadata": {},
   "outputs": [],
   "source": [
    "y_pred = lm.predict(X_test)\n",
    "predictions = [round(value) for value in y_pred]"
   ]
  },
  {
   "cell_type": "code",
   "execution_count": 27,
   "id": "e0fad8b7-3c08-4a1b-b11f-428d82345e8f",
   "metadata": {},
   "outputs": [
    {
     "name": "stdout",
     "output_type": "stream",
     "text": [
      "Accuracy: 8.48%\n"
     ]
    }
   ],
   "source": [
    "accuracy = lm.score(X_test,y_test)\n",
    "print(\"Accuracy: %.2f%%\" % (accuracy * 100.0))"
   ]
  },
  {
   "cell_type": "markdown",
   "id": "477fb4b3-935e-489c-9b81-7930a142121b",
   "metadata": {
    "tags": []
   },
   "source": [
    "#### Problem - Clustering similar kiosks"
   ]
  },
  {
   "cell_type": "markdown",
   "id": "d600481c-d0ae-41bc-97cf-85e8b922332f",
   "metadata": {},
   "source": [
    "Here we use the clustering algorithm from networkx to find out groups of kiosks based on their popularity."
   ]
  },
  {
   "cell_type": "code",
   "execution_count": 28,
   "id": "36873a49-98fb-4244-bbae-12041a413a39",
   "metadata": {},
   "outputs": [],
   "source": [
    "G2 = nx.from_pandas_edgelist(diff_trips, \"Checkout_Kiosk_ID\", \"Return_Kiosk_ID\", \"NoOfTrips\", \n",
    "                            create_using = nx.DiGraph()) "
   ]
  },
  {
   "cell_type": "code",
   "execution_count": 29,
   "id": "4b39843d-f61b-4f4e-b370-9d8216bcb28c",
   "metadata": {},
   "outputs": [],
   "source": [
    "cluster_coeff = np.array(list(nx.clustering(G2).values())).reshape(-1,1)"
   ]
  },
  {
   "cell_type": "code",
   "execution_count": 30,
   "id": "839352d1-ddff-44c1-b96d-6e13bce85efb",
   "metadata": {},
   "outputs": [],
   "source": [
    "kmeans_kwargs = {\"init\": \"random\",\n",
    "                 \"n_init\": 10,\n",
    "                 \"max_iter\": 300,\n",
    "                 \"random_state\": 42}\n",
    "\n",
    "# A list holds the SSE values for each k\n",
    "sse = []\n",
    "for k in range(1, 11):\n",
    "    kmeans = KMeans(n_clusters=k, **kmeans_kwargs)\n",
    "    kmeans.fit(cluster_coeff)\n",
    "    sse.append(kmeans.inertia_)"
   ]
  },
  {
   "cell_type": "code",
   "execution_count": 31,
   "id": "4eb58b36-87a4-4d5e-8b9e-1e7dd161fca9",
   "metadata": {},
   "outputs": [
    {
     "data": {
      "image/png": "[encoded data removed]",
      "text/plain": [
       "<Figure size 432x288 with 1 Axes>"
      ]
     },
     "metadata": {},
     "output_type": "display_data"
    }
   ],
   "source": [
    "#Elbow Plot to get the optimum number of clusters\n",
    "plt.style.use(\"fivethirtyeight\")\n",
    "plt.plot(range(1, 11), sse)\n",
    "plt.xticks(range(1, 11))\n",
    "plt.xlabel(\"Number of Clusters\")\n",
    "plt.ylabel(\"SSE\")\n",
    "plt.show()"
   ]
  },
  {
   "cell_type": "code",
   "execution_count": 32,
   "id": "24d27cd2-cec8-412e-83c9-d9823eddaa12",
   "metadata": {},
   "outputs": [],
   "source": [
    "from sklearn.metrics import silhouette_score"
   ]
  },
  {
   "cell_type": "code",
   "execution_count": 33,
   "id": "a895a30f-99c2-48e0-9232-10c08c9534aa",
   "metadata": {},
   "outputs": [],
   "source": [
    "# A list holds the silhouette coefficients for each k\n",
    "silhouette_coefficients = []\n",
    "\n",
    "# Notice you start at 2 clusters for silhouette coefficient\n",
    "for k in range(2, 11):\n",
    "    kmeans = KMeans(n_clusters=k, **kmeans_kwargs)\n",
    "    kmeans.fit(cluster_coeff)\n",
    "    score = silhouette_score(cluster_coeff, kmeans.labels_)\n",
    "    silhouette_coefficients.append(score)"
   ]
  },
  {
   "cell_type": "code",
   "execution_count": 34,
   "id": "da0d59f5-3053-49c1-b4cc-538194ec4047",
   "metadata": {},
   "outputs": [
    {
     "data": {
      "image/png": "[encoded data removed]",
      "text/plain": [
       "<Figure size 432x288 with 1 Axes>"
      ]
     },
     "metadata": {},
     "output_type": "display_data"
    }
   ],
   "source": [
    "plt.style.use(\"fivethirtyeight\")\n",
    "plt.plot(range(2, 11), silhouette_coefficients)\n",
    "plt.xticks(range(2, 11))\n",
    "plt.xlabel(\"Number of Clusters\")\n",
    "plt.ylabel(\"Silhouette Coefficient\")\n",
    "plt.show()"
   ]
  },
  {
   "cell_type": "markdown",
   "id": "62ee6870-66d6-49f1-a75d-307465fae51c",
   "metadata": {},
   "source": [
    "Hence, there are only two distinct clusters in our data. In other words, there are only two kinds of kiosks present in austin based on its popularity."
   ]
  },
  {
   "cell_type": "code",
   "execution_count": 35,
   "id": "a576aec5-e651-41a7-b3cf-0b1be9c198c4",
   "metadata": {},
   "outputs": [
    {
     "data": {
      "text/plain": [
       "KMeans(init='random', n_clusters=2, random_state=42)"
      ]
     },
     "execution_count": 35,
     "metadata": {},
     "output_type": "execute_result"
    }
   ],
   "source": [
    "#Final model\n",
    "kmeans = KMeans(n_clusters=2, **kmeans_kwargs)\n",
    "kmeans.fit(cluster_coeff)"
   ]
  },
  {
   "cell_type": "code",
   "execution_count": 36,
   "id": "6305361a-325d-4c77-9afa-de7204966b56",
   "metadata": {},
   "outputs": [],
   "source": [
    "color_map = list(kmeans.labels_)"
   ]
  },
  {
   "cell_type": "code",
   "execution_count": 37,
   "id": "3a47a9d8-938d-4d22-bb71-bda5848d8e56",
   "metadata": {},
   "outputs": [],
   "source": [
    "for i,n in enumerate(color_map):\n",
    "    if n == 1:\n",
    "        color_map[i] = \"red\"\n",
    "    else:\n",
    "        color_map[i] = \"yellow\""
   ]
  },
  {
   "cell_type": "code",
   "execution_count": 38,
   "id": "751b9c0b-8bac-4d32-bed6-c146af83ed7c",
   "metadata": {},
   "outputs": [
    {
     "data": {
      "image/png": "[encoded data removed]",
      "text/plain": [
       "<Figure size 432x288 with 1 Axes>"
      ]
     },
     "metadata": {},
     "output_type": "display_data"
    }
   ],
   "source": [
    "pos = nx.spring_layout(G2)\n",
    "nx.draw(G2, pos, node_color = color_map, edge_color = \"grey\", with_labels = True)\n",
    "plt.show()"
   ]
  },
  {
   "cell_type": "markdown",
   "id": "c10fd4c5-ba5a-4017-a68c-94c32b246b33",
   "metadata": {
    "tags": []
   },
   "source": [
    "#### Problem - Downsizing"
   ]
  },
  {
   "cell_type": "code",
   "execution_count": 39,
   "id": "67776c11-4dd2-439c-b22a-4608ad0c981a",
   "metadata": {},
   "outputs": [
    {
     "data": {
      "text/html": [
       "<div>\n",
       "<style scoped>\n",
       "    .dataframe tbody tr th:only-of-type {\n",
       "        vertical-align: middle;\n",
       "    }\n",
       "\n",
       "    .dataframe tbody tr th {\n",
       "        vertical-align: top;\n",
       "    }\n",
       "\n",
       "    .dataframe thead th {\n",
       "        text-align: right;\n",
       "    }\n",
       "</style>\n",
       "<table border=\"1\" class=\"dataframe\">\n",
       "  <thead>\n",
       "    <tr style=\"text-align: right;\">\n",
       "      <th></th>\n",
       "      <th>Checkout_Kiosk_ID</th>\n",
       "      <th>Return_Kiosk_ID</th>\n",
       "      <th>NoOfTrips</th>\n",
       "      <th>Distance</th>\n",
       "      <th>AvgTripDuration</th>\n",
       "      <th>AvgTotalRevenue</th>\n",
       "    </tr>\n",
       "  </thead>\n",
       "  <tbody>\n",
       "    <tr>\n",
       "      <th>0</th>\n",
       "      <td>2575</td>\n",
       "      <td>2575</td>\n",
       "      <td>1768</td>\n",
       "      <td>0.0</td>\n",
       "      <td>53.033371</td>\n",
       "      <td>23333.49</td>\n",
       "    </tr>\n",
       "    <tr>\n",
       "      <th>1</th>\n",
       "      <td>2499</td>\n",
       "      <td>2499</td>\n",
       "      <td>1210</td>\n",
       "      <td>0.0</td>\n",
       "      <td>75.216529</td>\n",
       "      <td>22142.76</td>\n",
       "    </tr>\n",
       "    <tr>\n",
       "      <th>2</th>\n",
       "      <td>2497</td>\n",
       "      <td>2497</td>\n",
       "      <td>931</td>\n",
       "      <td>0.0</td>\n",
       "      <td>59.085929</td>\n",
       "      <td>13583.07</td>\n",
       "    </tr>\n",
       "  </tbody>\n",
       "</table>\n",
       "</div>"
      ],
      "text/plain": [
       "   Checkout_Kiosk_ID  Return_Kiosk_ID  NoOfTrips  Distance  AvgTripDuration  \\\n",
       "0               2575             2575       1768       0.0        53.033371   \n",
       "1               2499             2499       1210       0.0        75.216529   \n",
       "2               2497             2497        931       0.0        59.085929   \n",
       "\n",
       "   AvgTotalRevenue  \n",
       "0         23333.49  \n",
       "1         22142.76  \n",
       "2         13583.07  "
      ]
     },
     "execution_count": 39,
     "metadata": {},
     "output_type": "execute_result"
    }
   ],
   "source": [
    "#Appending a revenue column to our table\n",
    "rev = []\n",
    "for i in range(diff_trips.shape[0]):\n",
    "    rev.append(rev_calc(diff_trips[\"AvgTripDuration\"][i])*diff_trips[\"NoOfTrips\"][i])\n",
    "diff_trips[\"AvgTotalRevenue\"] = [round(x,2) for x in rev]\n",
    "diff_trips.head(3)"
   ]
  },
  {
   "cell_type": "code",
   "execution_count": 40,
   "id": "14bb05e4-12f7-4d5b-bda5-b1295c7a1e4a",
   "metadata": {},
   "outputs": [
    {
     "data": {
      "text/plain": [
       "1"
      ]
     },
     "execution_count": 40,
     "metadata": {},
     "output_type": "execute_result"
    }
   ],
   "source": [
    "#Finding which kiosks to close using optimisation\n",
    "nodes = list(G2.nodes)\n",
    "edges = list(G2.edges)\n",
    "    \n",
    "#Formulating an lp problem\n",
    "prob = LpProblem(name = \"Maximize_Revenue\", sense = LpMaximize)\n",
    "\n",
    "#Each vertex is a variable\n",
    "v = dict() #empty dictionary to store all variables (nodes)\n",
    "for i,j in enumerate(nodes):\n",
    "    v[j] = LpVariable(str(nodes[i]), cat = \"Binary\")\n",
    "    \n",
    "#Objective - maximize costs\n",
    "for i in nodes:\n",
    "    for j in list(G2.adj[i]):\n",
    "        #i is my checkout kiosk ID\n",
    "        #j is my return kiosk ID\n",
    "        rev = float(diff_trips[(diff_trips[\"Checkout_Kiosk_ID\"] == i) & \n",
    "                               (diff_trips[\"Return_Kiosk_ID\"] == j)][\"AvgTotalRevenue\"])\n",
    "        \n",
    "        prob += (v[i]+v[j])*(rev/2)\n",
    "\n",
    "\n",
    "#Constraints\n",
    "prob += sum(list(v.values())) <= 39\n",
    "prob += sum(list(v.values())) >= 34\n",
    "prob += v[2570] + v[2571] + v[2572] + v[2561] >= 2\n",
    "\n",
    "#Solving problem\n",
    "prob.solve()"
   ]
  },
  {
   "cell_type": "code",
   "execution_count": 41,
   "id": "b5c36278-0eb1-453a-a135-d9babc06879a",
   "metadata": {
    "tags": []
   },
   "outputs": [
    {
     "name": "stdout",
     "output_type": "stream",
     "text": [
      "34\n",
      "10\n"
     ]
    }
   ],
   "source": [
    "elim = []\n",
    "not_elim = []\n",
    "for i in v.keys():\n",
    "    if v[i].varValue == 0.0:\n",
    "        elim.append(int(str(i)))\n",
    "    elif v[i].varValue == 1.0:\n",
    "        not_elim.append(int(str(i)))\n",
    "print(len(not_elim))\n",
    "print(len(elim))"
   ]
  },
  {
   "cell_type": "markdown",
   "id": "0eaf9357-eb6b-4051-a691-9c016c238cd9",
   "metadata": {},
   "source": [
    "#### Problem - Minimum Vertex Cover"
   ]
  },
  {
   "cell_type": "code",
   "execution_count": 42,
   "id": "48d0e8c3-4c52-4530-a276-f1cc9f5b8d10",
   "metadata": {},
   "outputs": [
    {
     "data": {
      "text/plain": [
       "1"
      ]
     },
     "execution_count": 42,
     "metadata": {},
     "output_type": "execute_result"
    }
   ],
   "source": [
    "#Formulating an lp problem\n",
    "prob2 = LpProblem(name = \"Minimum_Vertex_Cover\", sense = LpMinimize)\n",
    "    \n",
    "#Each vertex is a variable\n",
    "v2 = dict() #empty dictionary to store all variables (nodes)\n",
    "for i,j in enumerate(nodes):\n",
    "    v2[j] = LpVariable(str(nodes[i]), cat = \"Binary\")\n",
    "\n",
    "#Constraints - atleast one vextex on an edge is marked as 1\n",
    "for e in edges:\n",
    "    if e[0] != e[1]:\n",
    "        prob2 += v2[e[0]] + v2[e[1]] >= 1\n",
    "\n",
    "#Objective - minimum no. of nodes\n",
    "prob2 += sum(list(v2.values()))\n",
    "\n",
    "prob2.solve()"
   ]
  },
  {
   "cell_type": "code",
   "execution_count": 43,
   "id": "27bdbf38-2afc-441b-84b6-fe837038bf90",
   "metadata": {},
   "outputs": [
    {
     "data": {
      "text/plain": [
       "41.0"
      ]
     },
     "execution_count": 43,
     "metadata": {},
     "output_type": "execute_result"
    }
   ],
   "source": [
    "value(prob2.objective)"
   ]
  },
  {
   "cell_type": "code",
   "execution_count": 44,
   "id": "82b76ca8-2641-4f26-96cf-343674857ef6",
   "metadata": {},
   "outputs": [],
   "source": [
    "skip = []\n",
    "for v in prob2.variables():\n",
    "    if v.varValue == 0.0:\n",
    "        skip.append(int(str(v)))"
   ]
  },
  {
   "cell_type": "code",
   "execution_count": 45,
   "id": "7189f699-464d-4b59-9e44-c1874f15cfc8",
   "metadata": {},
   "outputs": [
    {
     "data": {
      "text/plain": [
       "[2500, 2572, 2822]"
      ]
     },
     "execution_count": 45,
     "metadata": {},
     "output_type": "execute_result"
    }
   ],
   "source": [
    "skip"
   ]
  },
  {
   "cell_type": "markdown",
   "id": "c177f3ba-bebe-4ae2-b26d-32686af8c6ab",
   "metadata": {
    "tags": []
   },
   "source": [
    "#### References\n",
    "- Travling Salesman Problem\n",
    "https://networkx.org/documentation/stable/reference/algorithms/generated/networkx.algorithms.approximation.traveling_salesman.traveling_salesman_problem.html\n",
    "- Kmeans\n",
    "https://realpython.com/k-means-clustering-python/ \n",
    "- Clustering\n",
    "https://www.geeksforgeeks.org/python-clustering-connectivity-and-other-graph-properties-using-networkx/"
   ]
  },
  {
   "cell_type": "markdown",
   "id": "08c3c47e-b94c-4017-aacc-701e89c4c919",
   "metadata": {},
   "source": [
    "___\n",
    "## Thank You"
   ]
  }
 ],
 "metadata": {
  "kernelspec": {
   "display_name": "Python 3 (ipykernel)",
   "language": "python",
   "name": "python3"
  },
  "language_info": {
   "codemirror_mode": {
    "name": "ipython",
    "version": 3
   },
   "file_extension": ".py",
   "mimetype": "text/x-python",
   "name": "python",
   "nbconvert_exporter": "python",
   "pygments_lexer": "ipython3",
   "version": "3.8.12"
  }
 },
 "nbformat": 4,
 "nbformat_minor": 5
}
